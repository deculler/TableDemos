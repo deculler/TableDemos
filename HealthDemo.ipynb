{
 "cells": [
  {
   "cell_type": "code",
   "execution_count": 1,
   "metadata": {
    "collapsed": false
   },
   "outputs": [],
   "source": [
    "# HIDDEN\n",
    "from datascience import *\n",
    "%matplotlib inline\n",
    "import matplotlib.pyplot as plots\n",
    "plots.style.use('fivethirtyeight')"
   ]
  },
  {
   "cell_type": "code",
   "execution_count": 2,
   "metadata": {
    "collapsed": false
   },
   "outputs": [],
   "source": [
    "# Read in the data from health records survey as a raw table\n",
    "# Public data from the UC Michigan Institute for Social Research\n",
    "# Health and Retirement Survey - rsonline.isr.umich.edu\n",
    "#\n",
    "hrec06 = Table.read_table(\"./hrsextract06.csv\")"
   ]
  },
  {
   "cell_type": "code",
   "execution_count": 3,
   "metadata": {
    "collapsed": false
   },
   "outputs": [
    {
     "data": {
      "text/html": [
       "<table border=\"1\" class=\"dataframe\">\n",
       "    <thead>\n",
       "        <tr>\n",
       "            <th>hhidpn</th> <th>r8agey_m</th> <th>ragender</th> <th>raracem</th> <th>rahispan</th> <th>raedyrs</th> <th>h8cpl</th> <th>h8atota</th> <th>rayshlt</th> <th>r8shlt</th> <th>r8expyrs</th> <th>r8cesd</th> <th>r8bpavgs</th> <th>r8bpavgp</th> <th>r8smoken</th> <th>r8mdactx</th> <th>r8weightbio</th> <th>r8weight</th> <th>r8heightbio</th> <th>r8height</th>\n",
       "        </tr>\n",
       "    </thead>\n",
       "    <tbody>\n",
       "        <tr>\n",
       "            <td>3010    </td> <td>70      </td> <td>1       </td> <td>1      </td> <td>0       </td> <td>12     </td> <td>1    </td> <td>914000    </td> <td>3      </td> <td>3     </td> <td>21.5    </td> <td>0     </td> <td>140     </td> <td>58      </td> <td>0       </td> <td>4       </td> <td>74.1623    </td> <td>71.6672 </td> <td>1.64465    </td> <td>1.6256  </td>\n",
       "        </tr>\n",
       "    </tbody>\n",
       "        <tr>\n",
       "            <td>3020    </td> <td>67      </td> <td>2       </td> <td>1      </td> <td>0       </td> <td>16     </td> <td>1    </td> <td>914000    </td> <td>1      </td> <td>3     </td> <td>23.7    </td> <td>0     </td> <td>139     </td> <td>72      </td> <td>0       </td> <td>1       </td> <td>66.9048    </td> <td>65.317  </td> <td>1.61925    </td> <td>1.6256  </td>\n",
       "        </tr>\n",
       "    </tbody>\n",
       "        <tr>\n",
       "            <td>10003030</td> <td>50      </td> <td>2       </td> <td>1      </td> <td>0       </td> <td>16     </td> <td>0    </td> <td>12000     </td> <td>3      </td> <td>5     </td> <td>47.5    </td> <td>4     </td> <td>124     </td> <td>98      </td> <td>0       </td> <td>2       </td> <td>64.4101    </td> <td>58.9667 </td> <td>1.5494     </td> <td>1.5748  </td>\n",
       "        </tr>\n",
       "    </tbody>\n",
       "        <tr>\n",
       "            <td>10004010</td> <td>66      </td> <td>1       </td> <td>1      </td> <td>0       </td> <td>16     </td> <td>1    </td> <td>1.832e+06 </td> <td>1      </td> <td>4     </td> <td>7       </td> <td>1     </td> <td>130     </td> <td>74      </td> <td>0       </td> <td>2       </td> <td>101.605    </td> <td>102.511 </td> <td>1.8415     </td> <td>1.8542  </td>\n",
       "        </tr>\n",
       "    </tbody>\n",
       "        <tr>\n",
       "            <td>10004040</td> <td>60      </td> <td>2       </td> <td>1      </td> <td>0       </td> <td>12     </td> <td>1    </td> <td>1.832e+06 </td> <td>1      </td> <td>2     </td> <td>28.25   </td> <td>0     </td> <td>125     </td> <td>67      </td> <td>0       </td> <td>2       </td> <td>77.3374    </td> <td>77.1103 </td> <td>1.6383     </td> <td>1.651   </td>\n",
       "        </tr>\n",
       "    </tbody>\n",
       "        <tr>\n",
       "            <td>10013010</td> <td>68      </td> <td>1       </td> <td>1      </td> <td>0       </td> <td>12     </td> <td>0    </td> <td>50        </td> <td>1      </td> <td>3     </td> <td>16.5    </td> <td>2     </td> <td>125     </td> <td>67      </td> <td>0       </td> <td>5       </td> <td>110.223    </td> <td>108.862 </td> <td>1.7272     </td> <td>1.7272  </td>\n",
       "        </tr>\n",
       "    </tbody>\n",
       "        <tr>\n",
       "            <td>10038010</td> <td>70      </td> <td>1       </td> <td>1      </td> <td>0       </td> <td>16     </td> <td>1    </td> <td>2.5e+06   </td> <td>2      </td> <td>2     </td> <td>22.5    </td> <td>1     </td> <td>107     </td> <td>52      </td> <td>0       </td> <td>2       </td> <td>73.4819    </td> <td>74.8423 </td> <td>1.70815    </td> <td>1.7526  </td>\n",
       "        </tr>\n",
       "    </tbody>\n",
       "        <tr>\n",
       "            <td>10038040</td> <td>63      </td> <td>2       </td> <td>1      </td> <td>0       </td> <td>16     </td> <td>1    </td> <td>2.5e+06   </td> <td>1      </td> <td>1     </td> <td>27.05   </td> <td>1     </td> <td>112     </td> <td>70      </td> <td>0       </td> <td>2       </td> <td>65.3173    </td> <td>64.4098 </td> <td>1.67005    </td> <td>1.6764  </td>\n",
       "        </tr>\n",
       "    </tbody>\n",
       "        <tr>\n",
       "            <td>10050010</td> <td>64      </td> <td>2       </td> <td>3      </td> <td>0       </td> <td>17     </td> <td>0    </td> <td>664066    </td> <td>1      </td> <td>2     </td> <td>27.025  </td> <td>1     </td> <td>136     </td> <td>90      </td> <td>0       </td> <td>5       </td> <td>75.9767    </td> <td>68.0385 </td> <td>1.5875     </td> <td>1.6256  </td>\n",
       "        </tr>\n",
       "    </tbody>\n",
       "        <tr>\n",
       "            <td>10059020</td> <td>70      </td> <td>2       </td> <td>1      </td> <td>0       </td> <td>16     </td> <td>1    </td> <td>1.2405e+07</td> <td>2      </td> <td>3     </td> <td>19.5    </td> <td>0     </td> <td>112     </td> <td>54      </td> <td>1       </td> <td>2       </td> <td>58.967     </td> <td>57.6059 </td> <td>1.6637     </td> <td>1.6764  </td>\n",
       "        </tr>\n",
       "    </tbody>\n",
       "</table>\n",
       "<p>... (6332 rows omitted)</p"
      ],
      "text/plain": [
       "hhidpn   | r8agey_m | ragender | raracem | rahispan | raedyrs | h8cpl | h8atota    | rayshlt | r8shlt | r8expyrs | r8cesd | r8bpavgs | r8bpavgp | r8smoken | r8mdactx | r8weightbio | r8weight | r8heightbio | r8height\n",
       "3010     | 70       | 1        | 1       | 0        | 12      | 1     | 914000     | 3       | 3      | 21.5     | 0      | 140      | 58       | 0        | 4        | 74.1623     | 71.6672  | 1.64465     | 1.6256\n",
       "3020     | 67       | 2        | 1       | 0        | 16      | 1     | 914000     | 1       | 3      | 23.7     | 0      | 139      | 72       | 0        | 1        | 66.9048     | 65.317   | 1.61925     | 1.6256\n",
       "10003030 | 50       | 2        | 1       | 0        | 16      | 0     | 12000      | 3       | 5      | 47.5     | 4      | 124      | 98       | 0        | 2        | 64.4101     | 58.9667  | 1.5494      | 1.5748\n",
       "10004010 | 66       | 1        | 1       | 0        | 16      | 1     | 1.832e+06  | 1       | 4      | 7        | 1      | 130      | 74       | 0        | 2        | 101.605     | 102.511  | 1.8415      | 1.8542\n",
       "10004040 | 60       | 2        | 1       | 0        | 12      | 1     | 1.832e+06  | 1       | 2      | 28.25    | 0      | 125      | 67       | 0        | 2        | 77.3374     | 77.1103  | 1.6383      | 1.651\n",
       "10013010 | 68       | 1        | 1       | 0        | 12      | 0     | 50         | 1       | 3      | 16.5     | 2      | 125      | 67       | 0        | 5        | 110.223     | 108.862  | 1.7272      | 1.7272\n",
       "10038010 | 70       | 1        | 1       | 0        | 16      | 1     | 2.5e+06    | 2       | 2      | 22.5     | 1      | 107      | 52       | 0        | 2        | 73.4819     | 74.8423  | 1.70815     | 1.7526\n",
       "10038040 | 63       | 2        | 1       | 0        | 16      | 1     | 2.5e+06    | 1       | 1      | 27.05    | 1      | 112      | 70       | 0        | 2        | 65.3173     | 64.4098  | 1.67005     | 1.6764\n",
       "10050010 | 64       | 2        | 3       | 0        | 17      | 0     | 664066     | 1       | 2      | 27.025   | 1      | 136      | 90       | 0        | 5        | 75.9767     | 68.0385  | 1.5875      | 1.6256\n",
       "10059020 | 70       | 2        | 1       | 0        | 16      | 1     | 1.2405e+07 | 2       | 3      | 19.5     | 0      | 112      | 54       | 1        | 2        | 58.967      | 57.6059  | 1.6637      | 1.6764\n",
       "... (6332 rows omitted)"
      ]
     },
     "execution_count": 3,
     "metadata": {},
     "output_type": "execute_result"
    }
   ],
   "source": [
    "# the raw table - pretty yechy\n",
    "hrec06"
   ]
  },
  {
   "cell_type": "code",
   "execution_count": null,
   "metadata": {
    "collapsed": false
   },
   "outputs": [],
   "source": [
    "# Create a table that provides the mapping and decoding to a more readable form\n",
    "health_map = Table.from_rows(\n",
    "    [[\"hhidpn\",  \"id\", None, \"identifier\"],\n",
    "    [\"r8agey_m\", \"age\", None, \"age in years in wave 8\"],\n",
    "    [\"ragender\", \"gender\", ['male','female'], \"1 = male,  2 = female)\"],\n",
    "    [\"raracem\",  \"race\",   ['white','black','other'], \"(1 = white,  2 = black,  3 = other)\"],\n",
    "    [\"rahispan\", \"hispanic\",  None, \"(1 = yes)\"],\n",
    "    [\"raedyrs\",  \"education\", None, \"education in years\"],\n",
    "    [\"h8cpl\",    \"couple\",    None, \"in a couple household (1 = yes)\"],\n",
    "    [\"r8bpavgs\", \"blood pressure\", None,\"average systolic BP\"],\n",
    "    [\"r8bpavgp\", \"pulse\", None, \"average pulse\"],\n",
    "    [\"r8smoken\", \"smoker\",None, \"currently smokes cigarettes\"],\n",
    "    [\"r8mdactx\", \"exercise\", None, \"frequency of moderate exercise (1=everyday, 2=>1perweek, 3=1perweek, 4=1-3permonth\\\n",
    ", 5=never)\"],\n",
    "    [\"r8weightbio\", \"weight\", None, \"objective weight in kg\"],\n",
    "    [\"r8heightbio\",\"height\", None, \"objective height in m\"],\n",
    "    ], \n",
    "    [\"raw label\", \"label\", \"encoding\", \"Description\"])\n",
    "health_map"
   ]
  },
  {
   "cell_type": "code",
   "execution_count": null,
   "metadata": {
    "collapsed": false
   },
   "outputs": [],
   "source": [
    "def table_lookup(table,key_col,key,map_col):\n",
    "    row = np.where(table[key_col]==key)\n",
    "    if len(row[0]) == 1:\n",
    "        return table[map_col][row[0]][0]\n",
    "    else:\n",
    "        return -1"
   ]
  },
  {
   "cell_type": "code",
   "execution_count": null,
   "metadata": {
    "collapsed": false
   },
   "outputs": [],
   "source": [
    "def map_raw_table(raw_table,map_table):\n",
    "    mapped = Table()\n",
    "    for raw_label in raw_table :\n",
    "        if raw_label in map_table[\"raw label\"] :\n",
    "            new_label = table_lookup(map_table,'raw label',raw_label,'label')\n",
    "            encoding = table_lookup(map_table,'raw label',raw_label,'encoding')\n",
    "            if encoding is None :\n",
    "                mapped[new_label] = raw_table[raw_label]\n",
    "            else:\n",
    "                mapped[new_label] = raw_table.apply(lambda x: encoding[x-1], raw_label)\n",
    "    return mapped"
   ]
  },
  {
   "cell_type": "code",
   "execution_count": null,
   "metadata": {
    "collapsed": false
   },
   "outputs": [],
   "source": [
    "# create a more usable table by mapping the raw to finished\n",
    "health = map_raw_table(hrec06,health_map)\n",
    "health"
   ]
  },
  {
   "cell_type": "code",
   "execution_count": null,
   "metadata": {
    "collapsed": false
   },
   "outputs": [],
   "source": [
    "# Let's try what is the effect of smoking\n",
    "smokers = health.where('smoker',1)\n",
    "nosmokers = health.where('smoker',0)\n",
    "print(smokers.num_rows, ' smokers')\n",
    "print(nosmokers.num_rows, ' non-smokers')"
   ]
  },
  {
   "cell_type": "code",
   "execution_count": null,
   "metadata": {
    "collapsed": true
   },
   "outputs": [],
   "source": [
    "def firstQtile(x) : return np.percentile(x,25)\n",
    "def thirdQtile(x) : return np.percentile(x,25)\n",
    "summary_ops = (min, firstQtile, np.mean, thirdQtile, max)"
   ]
  },
  {
   "cell_type": "code",
   "execution_count": null,
   "metadata": {
    "collapsed": false
   },
   "outputs": [],
   "source": [
    "smokers.stats(summary_ops)"
   ]
  },
  {
   "cell_type": "code",
   "execution_count": null,
   "metadata": {
    "collapsed": false
   },
   "outputs": [],
   "source": [
    "nosmokers.stats(summary_ops)"
   ]
  },
  {
   "cell_type": "markdown",
   "metadata": {},
   "source": [
    "It would appear that nosmokers are older, more educated, more 'coupled' and heavier - but of similar height and blood pressure"
   ]
  },
  {
   "cell_type": "code",
   "execution_count": null,
   "metadata": {
    "collapsed": false
   },
   "outputs": [],
   "source": [
    "# Lets draw two samples of equal size\n",
    "n_sample = 200\n",
    "smoker_sample = smokers.sample(n_sample)\n",
    "nosmoker_sample = nosmokers.sample(n_sample)"
   ]
  },
  {
   "cell_type": "code",
   "execution_count": null,
   "metadata": {
    "collapsed": false
   },
   "outputs": [],
   "source": [
    "weight = Table([nosmoker_sample['weight'],smoker_sample['weight']],['NoSmoke','Smoke'])\n",
    "weight.hist(overlay=True,bins=30,normed=True)"
   ]
  },
  {
   "cell_type": "code",
   "execution_count": null,
   "metadata": {
    "collapsed": false
   },
   "outputs": [],
   "source": [
    "bins=np.arange(39,139,5)\n",
    "weight_dist = weight.bin(bins=bins, normed=True)\n",
    "weight_dist['diff']=weight_dist['NoSmoke density']-weight_dist['Smoke density']\n",
    "print('TVD: ',sum(np.abs(weight_dist['diff'])))\n",
    "weight_dist.show()"
   ]
  },
  {
   "cell_type": "code",
   "execution_count": null,
   "metadata": {
    "collapsed": false
   },
   "outputs": [],
   "source": [
    "weight_dist.select(['bin','diff']).bar('bin')"
   ]
  },
  {
   "cell_type": "code",
   "execution_count": null,
   "metadata": {
    "collapsed": false
   },
   "outputs": [],
   "source": [
    "weight.stats(summary_ops)"
   ]
  },
  {
   "cell_type": "code",
   "execution_count": null,
   "metadata": {
    "collapsed": false
   },
   "outputs": [],
   "source": [
    "np.mean(weight['NoSmoke'])-np.mean(weight['Smoke'])"
   ]
  },
  {
   "cell_type": "markdown",
   "metadata": {},
   "source": [
    "Is the difference observed between these samples representative of the larger population?"
   ]
  },
  {
   "cell_type": "code",
   "execution_count": null,
   "metadata": {
    "collapsed": false
   },
   "outputs": [],
   "source": [
    "combined = Table([np.append(nosmoker_sample['weight'],smoker_sample['weight'])],['all'])"
   ]
  },
  {
   "cell_type": "code",
   "execution_count": null,
   "metadata": {
    "collapsed": false
   },
   "outputs": [],
   "source": [
    "# permutation test, split the combined into two random groups, do the comparison of those\n",
    "def getdiff():\n",
    "    A,B = combined.split(300)\n",
    "    return (np.mean(A['all'])-np.mean(B['all']))"
   ]
  },
  {
   "cell_type": "code",
   "execution_count": null,
   "metadata": {
    "collapsed": true
   },
   "outputs": [],
   "source": [
    "# Do the permutation many times and form the distribution of results\n",
    "num_samples = 100\n",
    "diff_samples = Table([[getdiff() for i in range(num_samples)]],['diffs']) "
   ]
  },
  {
   "cell_type": "code",
   "execution_count": null,
   "metadata": {
    "collapsed": false
   },
   "outputs": [],
   "source": [
    "diff_samples.hist(bins=20, normed=True)"
   ]
  },
  {
   "cell_type": "code",
   "execution_count": null,
   "metadata": {
    "collapsed": true
   },
   "outputs": [],
   "source": []
  }
 ],
 "metadata": {
  "kernelspec": {
   "display_name": "Python 3",
   "language": "python",
   "name": "python3"
  },
  "language_info": {
   "codemirror_mode": {
    "name": "ipython",
    "version": 3
   },
   "file_extension": ".py",
   "mimetype": "text/x-python",
   "name": "python",
   "nbconvert_exporter": "python",
   "pygments_lexer": "ipython3",
   "version": "3.5.1"
  }
 },
 "nbformat": 4,
 "nbformat_minor": 0
}
