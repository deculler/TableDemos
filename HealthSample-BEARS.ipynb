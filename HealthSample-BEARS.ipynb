{
 "cells": [
  {
   "cell_type": "code",
   "execution_count": null,
   "metadata": {
    "collapsed": false
   },
   "outputs": [],
   "source": [
    "# HIDDEN\n",
    "from datascience import *\n",
    "%matplotlib inline\n",
    "import matplotlib.pyplot as plots\n",
    "plots.style.use('fivethirtyeight')\n",
    "import numpy as np"
   ]
  },
  {
   "cell_type": "code",
   "execution_count": null,
   "metadata": {
    "collapsed": false
   },
   "outputs": [],
   "source": [
    "# Read in data from health records survey as a raw table\n",
    "# Public data from the UC Michigan Institute for Social Research\n",
    "# Health and Retirement Survey - rsonline.isr.umich.edu\n",
    "#\n",
    "hrec06 = Table.read_table(\"./hrsextract06.csv\")\n",
    "hrec06"
   ]
  },
  {
   "cell_type": "code",
   "execution_count": null,
   "metadata": {
    "collapsed": false
   },
   "outputs": [],
   "source": [
    "health_map = Table([\"raw label\", \"label\", \"encoding\", \"Description\"]).with_rows(\n",
    "       [[\"hhidpn\",  \"id\", None, \"identifier\"],\n",
    "        [\"r8agey_m\", \"age\", None, \"age in years in wave 8\"],\n",
    "        [\"ragender\", \"gender\", ['male','female'], \"1 = male,  2 = female)\"],\n",
    "        [\"raracem\",  \"race\",   ['white','black','other'], \"(1 = white,  2 = black,  3 = other)\"],\n",
    "        [\"rahispan\", \"hispanic\",  None, \"(1 = yes)\"],\n",
    "        [\"raedyrs\",  \"education\", None, \"education in years\"],\n",
    "        [\"h8cpl\",    \"couple\",    None, \"in a couple household (1 = yes)\"],\n",
    "        [\"r8bpavgs\", \"blood pressure\", None,\"average systolic BP\"],\n",
    "        [\"r8bpavgp\", \"pulse\", None, \"average pulse\"],\n",
    "        [\"r8smoken\", \"smoker\",None, \"currently smokes cigarettes\"],\n",
    "        [\"r8mdactx\", \"exercise\", None, \"frequency of moderate exercise (1=everyday, 2=>1perweek, 3=1perweek, 4=1-3permonth\\\n",
    ", 5=never)\"],\n",
    "        [\"r8weightbio\", \"weight\", None, \"objective weight in kg\"],\n",
    "        [\"r8heightbio\",\"height\", None, \"objective height in m\"]])\n",
    "health_map"
   ]
  },
  {
   "cell_type": "code",
   "execution_count": null,
   "metadata": {
    "collapsed": false
   },
   "outputs": [],
   "source": [
    "def table_lookup(table,key_col,key,map_col):\n",
    "    row = np.where(table[key_col]==key)\n",
    "    if len(row[0]) == 1:\n",
    "        return table[map_col][row[0]][0]\n",
    "    else:\n",
    "        return -1"
   ]
  },
  {
   "cell_type": "code",
   "execution_count": null,
   "metadata": {
    "collapsed": false
   },
   "outputs": [],
   "source": [
    "def map_raw_table(raw_table,map_table):\n",
    "    mapped = Table()\n",
    "    for raw_label in raw_table :\n",
    "        if raw_label in map_table[\"raw label\"] :\n",
    "            new_label = table_lookup(map_table,'raw label',raw_label,'label')\n",
    "            encoding = table_lookup(map_table,'raw label',raw_label,'encoding')\n",
    "            if encoding is None :\n",
    "                mapped[new_label] = raw_table[raw_label]\n",
    "            else:\n",
    "                mapped[new_label] = raw_table.apply(lambda x: encoding[x-1], raw_label)\n",
    "    return mapped"
   ]
  },
  {
   "cell_type": "code",
   "execution_count": null,
   "metadata": {
    "collapsed": false
   },
   "outputs": [],
   "source": [
    "# create a more usable table by mapping the raw to finished\n",
    "health = map_raw_table(hrec06,health_map)\n",
    "health"
   ]
  },
  {
   "cell_type": "code",
   "execution_count": null,
   "metadata": {
    "collapsed": false
   },
   "outputs": [],
   "source": [
    "def firstQtile(x) : return np.percentile(x,25)\n",
    "def thirdQtile(x) : return np.percentile(x,25)\n",
    "summary_ops = (min, firstQtile, np.median, np.mean, thirdQtile, max, sum)"
   ]
  },
  {
   "cell_type": "code",
   "execution_count": null,
   "metadata": {
    "collapsed": false
   },
   "outputs": [],
   "source": [
    "# Let's try what is the effect of smoking\n",
    "smokers = health.where('smoker',1)\n",
    "nosmokers = health.where('smoker',0)\n",
    "print(smokers.num_rows, ' smokers')\n",
    "print(nosmokers.num_rows, ' non-smokers')"
   ]
  },
  {
   "cell_type": "code",
   "execution_count": null,
   "metadata": {
    "collapsed": false
   },
   "outputs": [],
   "source": [
    "smokers.stats(summary_ops)"
   ]
  },
  {
   "cell_type": "code",
   "execution_count": null,
   "metadata": {
    "collapsed": false
   },
   "outputs": [],
   "source": [
    "nosmokers.stats(summary_ops)"
   ]
  },
  {
   "cell_type": "code",
   "execution_count": null,
   "metadata": {
    "collapsed": false
   },
   "outputs": [],
   "source": [
    "help(smokers.hist)"
   ]
  },
  {
   "cell_type": "code",
   "execution_count": null,
   "metadata": {
    "collapsed": false
   },
   "outputs": [],
   "source": [
    "smokers.hist('weight', bins=20)"
   ]
  },
  {
   "cell_type": "code",
   "execution_count": null,
   "metadata": {
    "collapsed": false
   },
   "outputs": [],
   "source": [
    "nosmokers.hist('weight', bins=20)"
   ]
  },
  {
   "cell_type": "code",
   "execution_count": null,
   "metadata": {
    "collapsed": false
   },
   "outputs": [],
   "source": [
    "np.mean(nosmokers['weight'])-np.mean(smokers['weight'])"
   ]
  },
  {
   "cell_type": "code",
   "execution_count": null,
   "metadata": {
    "collapsed": false
   },
   "outputs": [],
   "source": [
    "# Lets draw two samples of equal size\n",
    "n_sample = 200\n",
    "smoker_sample = smokers.sample(n_sample)\n",
    "nosmoker_sample = nosmokers.sample(n_sample)\n",
    "weight = Table().with_columns([('NoSmoke', nosmoker_sample['weight']),('Smoke', smoker_sample['weight'])])\n",
    "weight.hist(overlay=True,bins=30,normed=True)"
   ]
  },
  {
   "cell_type": "code",
   "execution_count": null,
   "metadata": {
    "collapsed": false
   },
   "outputs": [],
   "source": [
    "weight.stats(summary_ops)"
   ]
  },
  {
   "cell_type": "markdown",
   "metadata": {},
   "source": [
    "Is the difference observed between these samples representative of the larger population?"
   ]
  },
  {
   "cell_type": "code",
   "execution_count": null,
   "metadata": {
    "collapsed": false
   },
   "outputs": [],
   "source": [
    "combined = Table().with_column('all', np.append(nosmoker_sample['weight'],smoker_sample['weight']))"
   ]
  },
  {
   "cell_type": "code",
   "execution_count": null,
   "metadata": {
    "collapsed": false
   },
   "outputs": [],
   "source": [
    "combined.num_rows"
   ]
  },
  {
   "cell_type": "code",
   "execution_count": null,
   "metadata": {
    "collapsed": false
   },
   "outputs": [],
   "source": [
    "# permutation test, split the combined into two random groups, do the comparison of those\n",
    "def getdiff():\n",
    "    A,B = combined.split(n_sample)\n",
    "    return (np.mean(A['all'])-np.mean(B['all']))"
   ]
  },
  {
   "cell_type": "code",
   "execution_count": null,
   "metadata": {
    "collapsed": false
   },
   "outputs": [],
   "source": [
    "# Do the permutation many times and form the distribution of results\n",
    "num_samples = 300\n",
    "diff_samples = Table().with_column('diffs', [getdiff() for i in range(num_samples)])\n",
    "diff_samples.hist(bins=np.arange(-5,5,0.5), normed=True)"
   ]
  },
  {
   "cell_type": "code",
   "execution_count": null,
   "metadata": {
    "collapsed": true
   },
   "outputs": [],
   "source": []
  },
  {
   "cell_type": "code",
   "execution_count": null,
   "metadata": {
    "collapsed": false
   },
   "outputs": [],
   "source": [
    "# A sense of the overall population represented - older\n",
    "health.select(['age','education']).hist(bins=20)"
   ]
  },
  {
   "cell_type": "code",
   "execution_count": null,
   "metadata": {
    "collapsed": false
   },
   "outputs": [],
   "source": [
    "# How does education correlate with age?\n",
    "health.select(['age','education']).scatter('age', fit_line=True)"
   ]
  },
  {
   "cell_type": "code",
   "execution_count": null,
   "metadata": {
    "collapsed": false
   },
   "outputs": [],
   "source": [
    "health.pivot_hist('race','education',normed=True)"
   ]
  },
  {
   "cell_type": "code",
   "execution_count": null,
   "metadata": {
    "collapsed": false
   },
   "outputs": [],
   "source": [
    "# How are races represented in the dataset and how does hispanic overlay the three?\n",
    "race = health.select(['race', 'hispanic'])   \n",
    "race['count']=1\n",
    "by_race = race.group('race',sum)\n",
    "by_race['race frac'] = by_race['count sum']/np.sum(by_race['count sum'])\n",
    "by_race['hisp frac'] = by_race['hispanic sum'] / by_race['count sum']\n",
    "by_race"
   ]
  },
  {
   "cell_type": "code",
   "execution_count": null,
   "metadata": {
    "collapsed": false
   },
   "outputs": [],
   "source": [
    "health.select(['height','weight']).scatter('height','weight',fit_line=True)"
   ]
  },
  {
   "cell_type": "code",
   "execution_count": null,
   "metadata": {
    "collapsed": true
   },
   "outputs": [],
   "source": []
  }
 ],
 "metadata": {
  "kernelspec": {
   "display_name": "Python 3",
   "language": "python",
   "name": "python3"
  },
  "language_info": {
   "codemirror_mode": {
    "name": "ipython",
    "version": 3
   },
   "file_extension": ".py",
   "mimetype": "text/x-python",
   "name": "python",
   "nbconvert_exporter": "python",
   "pygments_lexer": "ipython3",
   "version": "3.5.1"
  }
 },
 "nbformat": 4,
 "nbformat_minor": 0
}
