{
 "cells": [
  {
   "cell_type": "markdown",
   "metadata": {},
   "source": [
    "This notebook seeks to convey a core concept of inferential thinking - given some set of observations about a small sample of a population, attempt to draw robust conclusions about the (unobservable) population.\n",
    "\n",
    "Here we create a hypothetical population through simulation.  It is based on the historical discussion in the data8 lecture about estimating the size of foreign bomber fleets from the observations of tail markings."
   ]
  },
  {
   "cell_type": "code",
   "execution_count": 2,
   "metadata": {
    "collapsed": false
   },
   "outputs": [
    {
     "data": {
      "text/plain": [
       "'0.3.dev19'"
      ]
     },
     "execution_count": 2,
     "metadata": {},
     "output_type": "execute_result"
    }
   ],
   "source": [
    "# HIDDEN\n",
    "from datascience import *\n",
    "%matplotlib inline\n",
    "import matplotlib.pyplot as plots\n",
    "import numpy as np\n",
    "plots.style.use('fivethirtyeight')\n",
    "# datascience version number of last run of this notebook\n",
    "version.__version__"
   ]
  },
  {
   "cell_type": "code",
   "execution_count": 3,
   "metadata": {
    "collapsed": true
   },
   "outputs": [],
   "source": [
    "# The magic number - size of the population that (in the real world) \n",
    "# we don't know and want to estimate\n",
    "\n",
    "def createPopulation():\n",
    "    def serNo(x):\n",
    "        return \"{:05d}\".format(x)\n",
    "    p = Table([np.arange(1,37*55)],[\"Ser No\"])\n",
    "    p.set_format(\"Ser No\", serNo)\n",
    "    return p"
   ]
  },
  {
   "cell_type": "code",
   "execution_count": 4,
   "metadata": {
    "collapsed": false
   },
   "outputs": [
    {
     "data": {
      "text/html": [
       "<table border=\"1\" class=\"dataframe\">\n",
       "    <thead>\n",
       "        <tr>\n",
       "            <th>Ser No</th>\n",
       "        </tr>\n",
       "    </thead>\n",
       "    <tbody>\n",
       "        <tr>\n",
       "            <td>00001</td>\n",
       "        </tr>\n",
       "    </tbody>\n",
       "        <tr>\n",
       "            <td>00002</td>\n",
       "        </tr>\n",
       "    </tbody>\n",
       "        <tr>\n",
       "            <td>00003</td>\n",
       "        </tr>\n",
       "    </tbody>\n",
       "        <tr>\n",
       "            <td>00004</td>\n",
       "        </tr>\n",
       "    </tbody>\n",
       "        <tr>\n",
       "            <td>00005</td>\n",
       "        </tr>\n",
       "    </tbody>\n",
       "        <tr>\n",
       "            <td>00006</td>\n",
       "        </tr>\n",
       "    </tbody>\n",
       "        <tr>\n",
       "            <td>00007</td>\n",
       "        </tr>\n",
       "    </tbody>\n",
       "        <tr>\n",
       "            <td>00008</td>\n",
       "        </tr>\n",
       "    </tbody>\n",
       "        <tr>\n",
       "            <td>00009</td>\n",
       "        </tr>\n",
       "    </tbody>\n",
       "        <tr>\n",
       "            <td>00010</td>\n",
       "        </tr>\n",
       "    </tbody>\n",
       "</table>\n",
       "<p>... (2024 rows omitted)</p"
      ],
      "text/plain": [
       "Ser No\n",
       "00001\n",
       "00002\n",
       "00003\n",
       "00004\n",
       "00005\n",
       "00006\n",
       "00007\n",
       "00008\n",
       "00009\n",
       "00010\n",
       "... (2024 rows omitted)"
      ]
     },
     "execution_count": 4,
     "metadata": {},
     "output_type": "execute_result"
    }
   ],
   "source": [
    "# Create a simulation of the population as a table - ordered collection of named columns\n",
    "population = createPopulation()\n",
    "population"
   ]
  },
  {
   "cell_type": "code",
   "execution_count": 5,
   "metadata": {
    "collapsed": true
   },
   "outputs": [],
   "source": [
    "# computational thinking - simulate observing a sample of the population\n",
    "sample_size = 10"
   ]
  },
  {
   "cell_type": "code",
   "execution_count": 18,
   "metadata": {
    "collapsed": false
   },
   "outputs": [
    {
     "data": {
      "text/html": [
       "<table border=\"1\" class=\"dataframe\">\n",
       "    <thead>\n",
       "        <tr>\n",
       "            <th>Ser No</th>\n",
       "        </tr>\n",
       "    </thead>\n",
       "    <tbody>\n",
       "        <tr>\n",
       "            <td>00625</td>\n",
       "        </tr>\n",
       "    </tbody>\n",
       "        <tr>\n",
       "            <td>01907</td>\n",
       "        </tr>\n",
       "    </tbody>\n",
       "        <tr>\n",
       "            <td>01892</td>\n",
       "        </tr>\n",
       "    </tbody>\n",
       "        <tr>\n",
       "            <td>01070</td>\n",
       "        </tr>\n",
       "    </tbody>\n",
       "        <tr>\n",
       "            <td>01361</td>\n",
       "        </tr>\n",
       "    </tbody>\n",
       "        <tr>\n",
       "            <td>01492</td>\n",
       "        </tr>\n",
       "    </tbody>\n",
       "        <tr>\n",
       "            <td>01762</td>\n",
       "        </tr>\n",
       "    </tbody>\n",
       "        <tr>\n",
       "            <td>01444</td>\n",
       "        </tr>\n",
       "    </tbody>\n",
       "        <tr>\n",
       "            <td>00365</td>\n",
       "        </tr>\n",
       "    </tbody>\n",
       "        <tr>\n",
       "            <td>00656</td>\n",
       "        </tr>\n",
       "    </tbody>\n",
       "</table>"
      ],
      "text/plain": [
       "Ser No\n",
       "00625\n",
       "01907\n",
       "01892\n",
       "01070\n",
       "01361\n",
       "01492\n",
       "01762\n",
       "01444\n",
       "00365\n",
       "00656"
      ]
     },
     "execution_count": 18,
     "metadata": {},
     "output_type": "execute_result"
    }
   ],
   "source": [
    "population.sample(sample_size,with_replacement=True)"
   ]
  },
  {
   "cell_type": "code",
   "execution_count": 19,
   "metadata": {
    "collapsed": true
   },
   "outputs": [],
   "source": [
    "# Simulate observing multiple samples\n",
    "nsamples = 30"
   ]
  },
  {
   "cell_type": "code",
   "execution_count": 20,
   "metadata": {
    "collapsed": false
   },
   "outputs": [
    {
     "data": {
      "text/html": [
       "<table border=\"1\" class=\"dataframe\">\n",
       "    <thead>\n",
       "        <tr>\n",
       "            <th>sample-0</th> <th>sample-1</th> <th>sample-2</th> <th>sample-3</th> <th>sample-4</th> <th>sample-5</th> <th>sample-6</th> <th>sample-7</th> <th>sample-8</th> <th>sample-9</th> <th>sample-10</th> <th>sample-11</th> <th>sample-12</th> <th>sample-13</th> <th>sample-14</th> <th>sample-15</th> <th>sample-16</th> <th>sample-17</th> <th>sample-18</th> <th>sample-19</th> <th>sample-20</th> <th>sample-21</th> <th>sample-22</th> <th>sample-23</th> <th>sample-24</th> <th>sample-25</th> <th>sample-26</th> <th>sample-27</th> <th>sample-28</th> <th>sample-29</th>\n",
       "        </tr>\n",
       "    </thead>\n",
       "    <tbody>\n",
       "        <tr>\n",
       "            <td>1551    </td> <td>1741    </td> <td>1321    </td> <td>314     </td> <td>921     </td> <td>674     </td> <td>1405    </td> <td>1715    </td> <td>2020    </td> <td>235     </td> <td>154      </td> <td>880      </td> <td>1006     </td> <td>434      </td> <td>1610     </td> <td>1251     </td> <td>1729     </td> <td>892      </td> <td>2033     </td> <td>173      </td> <td>1862     </td> <td>1671     </td> <td>604      </td> <td>1197     </td> <td>1668     </td> <td>231      </td> <td>1833     </td> <td>785      </td> <td>1850     </td> <td>1168     </td>\n",
       "        </tr>\n",
       "    </tbody>\n",
       "        <tr>\n",
       "            <td>778     </td> <td>1124    </td> <td>741     </td> <td>568     </td> <td>1179    </td> <td>710     </td> <td>1351    </td> <td>146     </td> <td>14      </td> <td>1792    </td> <td>531      </td> <td>120      </td> <td>1216     </td> <td>43       </td> <td>1699     </td> <td>1277     </td> <td>1897     </td> <td>1205     </td> <td>1316     </td> <td>175      </td> <td>436      </td> <td>1786     </td> <td>203      </td> <td>1136     </td> <td>1289     </td> <td>911      </td> <td>1940     </td> <td>859      </td> <td>905      </td> <td>992      </td>\n",
       "        </tr>\n",
       "    </tbody>\n",
       "        <tr>\n",
       "            <td>1226    </td> <td>1470    </td> <td>344     </td> <td>1538    </td> <td>230     </td> <td>954     </td> <td>195     </td> <td>402     </td> <td>1134    </td> <td>726     </td> <td>1465     </td> <td>939      </td> <td>73       </td> <td>1938     </td> <td>1769     </td> <td>576      </td> <td>22       </td> <td>1209     </td> <td>826      </td> <td>907      </td> <td>280      </td> <td>743      </td> <td>1552     </td> <td>10       </td> <td>1655     </td> <td>1449     </td> <td>1652     </td> <td>1075     </td> <td>1529     </td> <td>119      </td>\n",
       "        </tr>\n",
       "    </tbody>\n",
       "        <tr>\n",
       "            <td>1193    </td> <td>204     </td> <td>1201    </td> <td>940     </td> <td>739     </td> <td>443     </td> <td>487     </td> <td>1839    </td> <td>1686    </td> <td>494     </td> <td>1923     </td> <td>1735     </td> <td>591      </td> <td>936      </td> <td>1285     </td> <td>1261     </td> <td>413      </td> <td>1403     </td> <td>186      </td> <td>1366     </td> <td>611      </td> <td>1008     </td> <td>1117     </td> <td>531      </td> <td>728      </td> <td>760      </td> <td>531      </td> <td>1515     </td> <td>670      </td> <td>1765     </td>\n",
       "        </tr>\n",
       "    </tbody>\n",
       "        <tr>\n",
       "            <td>1317    </td> <td>1669    </td> <td>1061    </td> <td>709     </td> <td>534     </td> <td>559     </td> <td>140     </td> <td>189     </td> <td>1013    </td> <td>1930    </td> <td>428      </td> <td>1209     </td> <td>466      </td> <td>1220     </td> <td>1296     </td> <td>476      </td> <td>1057     </td> <td>283      </td> <td>1630     </td> <td>892      </td> <td>1699     </td> <td>1867     </td> <td>1993     </td> <td>1201     </td> <td>956      </td> <td>1210     </td> <td>1582     </td> <td>479      </td> <td>826      </td> <td>1903     </td>\n",
       "        </tr>\n",
       "    </tbody>\n",
       "        <tr>\n",
       "            <td>1376    </td> <td>1756    </td> <td>1198    </td> <td>186     </td> <td>1159    </td> <td>1704    </td> <td>121     </td> <td>23      </td> <td>647     </td> <td>1506    </td> <td>1299     </td> <td>1879     </td> <td>760      </td> <td>1019     </td> <td>1208     </td> <td>1941     </td> <td>596      </td> <td>1263     </td> <td>505      </td> <td>211      </td> <td>1107     </td> <td>2026     </td> <td>704      </td> <td>701      </td> <td>150      </td> <td>1769     </td> <td>1512     </td> <td>1618     </td> <td>1939     </td> <td>1358     </td>\n",
       "        </tr>\n",
       "    </tbody>\n",
       "        <tr>\n",
       "            <td>86      </td> <td>735     </td> <td>580     </td> <td>1698    </td> <td>2016    </td> <td>807     </td> <td>414     </td> <td>38      </td> <td>1079    </td> <td>1698    </td> <td>1191     </td> <td>292      </td> <td>1444     </td> <td>1356     </td> <td>645      </td> <td>877      </td> <td>1421     </td> <td>283      </td> <td>477      </td> <td>1744     </td> <td>316      </td> <td>1020     </td> <td>720      </td> <td>16       </td> <td>224      </td> <td>646      </td> <td>1987     </td> <td>1804     </td> <td>256      </td> <td>1990     </td>\n",
       "        </tr>\n",
       "    </tbody>\n",
       "        <tr>\n",
       "            <td>622     </td> <td>34      </td> <td>605     </td> <td>1174    </td> <td>1432    </td> <td>880     </td> <td>1341    </td> <td>2031    </td> <td>576     </td> <td>2004    </td> <td>1289     </td> <td>945      </td> <td>377      </td> <td>895      </td> <td>567      </td> <td>716      </td> <td>1181     </td> <td>2014     </td> <td>1028     </td> <td>628      </td> <td>577      </td> <td>98       </td> <td>642      </td> <td>1610     </td> <td>440      </td> <td>961      </td> <td>1962     </td> <td>1066     </td> <td>1670     </td> <td>1383     </td>\n",
       "        </tr>\n",
       "    </tbody>\n",
       "        <tr>\n",
       "            <td>316     </td> <td>1691    </td> <td>994     </td> <td>423     </td> <td>1190    </td> <td>1914    </td> <td>412     </td> <td>207     </td> <td>1722    </td> <td>386     </td> <td>1815     </td> <td>419      </td> <td>1118     </td> <td>894      </td> <td>1038     </td> <td>534      </td> <td>332      </td> <td>91       </td> <td>770      </td> <td>54       </td> <td>2002     </td> <td>6        </td> <td>739      </td> <td>1143     </td> <td>948      </td> <td>350      </td> <td>985      </td> <td>542      </td> <td>1050     </td> <td>557      </td>\n",
       "        </tr>\n",
       "    </tbody>\n",
       "        <tr>\n",
       "            <td>709     </td> <td>2017    </td> <td>694     </td> <td>168     </td> <td>88      </td> <td>1727    </td> <td>1171    </td> <td>1472    </td> <td>1459    </td> <td>504     </td> <td>1510     </td> <td>463      </td> <td>1763     </td> <td>1611     </td> <td>2018     </td> <td>862      </td> <td>352      </td> <td>14       </td> <td>1490     </td> <td>253      </td> <td>517      </td> <td>412      </td> <td>1299     </td> <td>1271     </td> <td>151      </td> <td>1097     </td> <td>569      </td> <td>1988     </td> <td>1294     </td> <td>956      </td>\n",
       "        </tr>\n",
       "    </tbody>\n",
       "</table>"
      ],
      "text/plain": [
       "sample-0 | sample-1 | sample-2 | sample-3 | sample-4 | sample-5 | sample-6 | sample-7 | sample-8 | sample-9 | sample-10 | sample-11 | sample-12 | sample-13 | sample-14 | sample-15 | sample-16 | sample-17 | sample-18 | sample-19 | sample-20 | sample-21 | sample-22 | sample-23 | sample-24 | sample-25 | sample-26 | sample-27 | sample-28 | sample-29\n",
       "1551     | 1741     | 1321     | 314      | 921      | 674      | 1405     | 1715     | 2020     | 235      | 154       | 880       | 1006      | 434       | 1610      | 1251      | 1729      | 892       | 2033      | 173       | 1862      | 1671      | 604       | 1197      | 1668      | 231       | 1833      | 785       | 1850      | 1168\n",
       "778      | 1124     | 741      | 568      | 1179     | 710      | 1351     | 146      | 14       | 1792     | 531       | 120       | 1216      | 43        | 1699      | 1277      | 1897      | 1205      | 1316      | 175       | 436       | 1786      | 203       | 1136      | 1289      | 911       | 1940      | 859       | 905       | 992\n",
       "1226     | 1470     | 344      | 1538     | 230      | 954      | 195      | 402      | 1134     | 726      | 1465      | 939       | 73        | 1938      | 1769      | 576       | 22        | 1209      | 826       | 907       | 280       | 743       | 1552      | 10        | 1655      | 1449      | 1652      | 1075      | 1529      | 119\n",
       "1193     | 204      | 1201     | 940      | 739      | 443      | 487      | 1839     | 1686     | 494      | 1923      | 1735      | 591       | 936       | 1285      | 1261      | 413       | 1403      | 186       | 1366      | 611       | 1008      | 1117      | 531       | 728       | 760       | 531       | 1515      | 670       | 1765\n",
       "1317     | 1669     | 1061     | 709      | 534      | 559      | 140      | 189      | 1013     | 1930     | 428       | 1209      | 466       | 1220      | 1296      | 476       | 1057      | 283       | 1630      | 892       | 1699      | 1867      | 1993      | 1201      | 956       | 1210      | 1582      | 479       | 826       | 1903\n",
       "1376     | 1756     | 1198     | 186      | 1159     | 1704     | 121      | 23       | 647      | 1506     | 1299      | 1879      | 760       | 1019      | 1208      | 1941      | 596       | 1263      | 505       | 211       | 1107      | 2026      | 704       | 701       | 150       | 1769      | 1512      | 1618      | 1939      | 1358\n",
       "86       | 735      | 580      | 1698     | 2016     | 807      | 414      | 38       | 1079     | 1698     | 1191      | 292       | 1444      | 1356      | 645       | 877       | 1421      | 283       | 477       | 1744      | 316       | 1020      | 720       | 16        | 224       | 646       | 1987      | 1804      | 256       | 1990\n",
       "622      | 34       | 605      | 1174     | 1432     | 880      | 1341     | 2031     | 576      | 2004     | 1289      | 945       | 377       | 895       | 567       | 716       | 1181      | 2014      | 1028      | 628       | 577       | 98        | 642       | 1610      | 440       | 961       | 1962      | 1066      | 1670      | 1383\n",
       "316      | 1691     | 994      | 423      | 1190     | 1914     | 412      | 207      | 1722     | 386      | 1815      | 419       | 1118      | 894       | 1038      | 534       | 332       | 91        | 770       | 54        | 2002      | 6         | 739       | 1143      | 948       | 350       | 985       | 542       | 1050      | 557\n",
       "709      | 2017     | 694      | 168      | 88       | 1727     | 1171     | 1472     | 1459     | 504      | 1510      | 463       | 1763      | 1611      | 2018      | 862       | 352       | 14        | 1490      | 253       | 517       | 412       | 1299      | 1271      | 151       | 1097      | 569       | 1988      | 1294      | 956"
      ]
     },
     "execution_count": 20,
     "metadata": {},
     "output_type": "execute_result"
    }
   ],
   "source": [
    "# use iteration to create a table of samples \n",
    "samples = Table()\n",
    "for i in range(nsamples):\n",
    "    name = \"sample-\"+str(i)\n",
    "    a_sample = population.sample(sample_size,with_replacement=True)\n",
    "    samples[name] = a_sample[\"Ser No\"]\n",
    "samples"
   ]
  },
  {
   "cell_type": "code",
   "execution_count": 21,
   "metadata": {
    "collapsed": false
   },
   "outputs": [
    {
     "data": {
      "text/plain": [
       "array([1551,  778, 1226, 1193, 1317, 1376,   86,  622,  316,  709])"
      ]
     },
     "execution_count": 21,
     "metadata": {},
     "output_type": "execute_result"
    }
   ],
   "source": [
    "# gracefully transition between tables and arrays\n",
    "samples['sample-0']"
   ]
  },
  {
   "cell_type": "code",
   "execution_count": 23,
   "metadata": {
    "collapsed": true
   },
   "outputs": [],
   "source": [
    "# define a function to capture formally a idea about how to do the estimation\n",
    "def estimateA(smpl) :\n",
    "    return np.max(smpl)"
   ]
  },
  {
   "cell_type": "code",
   "execution_count": 24,
   "metadata": {
    "collapsed": false
   },
   "outputs": [
    {
     "data": {
      "text/plain": [
       "1321"
      ]
     },
     "execution_count": 24,
     "metadata": {},
     "output_type": "execute_result"
    }
   ],
   "source": [
    "estimateA(samples['sample-2'])"
   ]
  },
  {
   "cell_type": "code",
   "execution_count": 26,
   "metadata": {
    "collapsed": true
   },
   "outputs": [],
   "source": [
    "# you might come up with lots of other estimators\n",
    "def estimateB(smpl) :\n",
    "    return 2*np.mean(smpl)"
   ]
  },
  {
   "cell_type": "code",
   "execution_count": 27,
   "metadata": {
    "collapsed": false
   },
   "outputs": [
    {
     "data": {
      "text/plain": [
       "1551"
      ]
     },
     "execution_count": 27,
     "metadata": {},
     "output_type": "execute_result"
    }
   ],
   "source": [
    "#verify it works\n",
    "estimateA(samples[\"sample-0\"])"
   ]
  },
  {
   "cell_type": "code",
   "execution_count": 29,
   "metadata": {
    "collapsed": false
   },
   "outputs": [
    {
     "data": {
      "text/plain": [
       "[1834.8,\n",
       " 2488.1999999999998,\n",
       " 1747.8,\n",
       " 1543.5999999999999,\n",
       " 1897.5999999999999,\n",
       " 2074.4000000000001,\n",
       " 1407.4000000000001,\n",
       " 1612.4000000000001,\n",
       " 2270.0,\n",
       " 2255.0,\n",
       " 2321.0,\n",
       " 1776.2,\n",
       " 1762.8,\n",
       " 2069.1999999999998,\n",
       " 2627.0,\n",
       " 1954.2,\n",
       " 1800.0,\n",
       " 1731.4000000000001,\n",
       " 2052.1999999999998,\n",
       " 1280.5999999999999,\n",
       " 1881.4000000000001,\n",
       " 2127.4000000000001,\n",
       " 1914.5999999999999,\n",
       " 1763.2,\n",
       " 1641.8,\n",
       " 1876.8,\n",
       " 2910.5999999999999,\n",
       " 2346.1999999999998,\n",
       " 2397.8000000000002,\n",
       " 2438.1999999999998]"
      ]
     },
     "execution_count": 29,
     "metadata": {},
     "output_type": "execute_result"
    }
   ],
   "source": [
    "# illustrate list comprehension to explore data\n",
    "[estimateB(samples[s]) for s in samples]"
   ]
  },
  {
   "cell_type": "code",
   "execution_count": 30,
   "metadata": {
    "collapsed": false
   },
   "outputs": [
    {
     "data": {
      "text/html": [
       "<table border=\"1\" class=\"dataframe\">\n",
       "    <thead>\n",
       "        <tr>\n",
       "            <th>ests</th>\n",
       "        </tr>\n",
       "    </thead>\n",
       "    <tbody>\n",
       "        <tr>\n",
       "            <td>1551</td>\n",
       "        </tr>\n",
       "    </tbody>\n",
       "        <tr>\n",
       "            <td>2017</td>\n",
       "        </tr>\n",
       "    </tbody>\n",
       "        <tr>\n",
       "            <td>1321</td>\n",
       "        </tr>\n",
       "    </tbody>\n",
       "        <tr>\n",
       "            <td>1698</td>\n",
       "        </tr>\n",
       "    </tbody>\n",
       "        <tr>\n",
       "            <td>2016</td>\n",
       "        </tr>\n",
       "    </tbody>\n",
       "        <tr>\n",
       "            <td>1914</td>\n",
       "        </tr>\n",
       "    </tbody>\n",
       "        <tr>\n",
       "            <td>1405</td>\n",
       "        </tr>\n",
       "    </tbody>\n",
       "        <tr>\n",
       "            <td>2031</td>\n",
       "        </tr>\n",
       "    </tbody>\n",
       "        <tr>\n",
       "            <td>2020</td>\n",
       "        </tr>\n",
       "    </tbody>\n",
       "        <tr>\n",
       "            <td>2004</td>\n",
       "        </tr>\n",
       "    </tbody>\n",
       "</table>\n",
       "<p>... (20 rows omitted)</p"
      ],
      "text/plain": [
       "ests\n",
       "1551\n",
       "2017\n",
       "1321\n",
       "1698\n",
       "2016\n",
       "1914\n",
       "1405\n",
       "2031\n",
       "2020\n",
       "2004\n",
       "... (20 rows omitted)"
      ]
     },
     "execution_count": 30,
     "metadata": {},
     "output_type": "execute_result"
    }
   ],
   "source": [
    "# Build a tables of estimates\n",
    "estA = Table([[estimateA(samples[s]) for s in samples]],['ests'])\n",
    "estA"
   ]
  },
  {
   "cell_type": "code",
   "execution_count": 31,
   "metadata": {
    "collapsed": false
   },
   "outputs": [
    {
     "data": {
      "image/png": "[encoded data removed]",
      "text/plain": [
       "<matplotlib.figure.Figure at 0x1028b4320>"
      ]
     },
     "metadata": {},
     "output_type": "display_data"
    }
   ],
   "source": [
    "# Look at the behavior of this estimator as a histogram\n",
    "estA.hist(range=(1,np.max(estA['ests'])),bins=20)"
   ]
  },
  {
   "cell_type": "code",
   "execution_count": 32,
   "metadata": {
    "collapsed": false
   },
   "outputs": [],
   "source": [
    "# Computational thinking: estimator as a higher order function \n",
    "# passed in to a function that creates a table of estimate\n",
    "def estimate(estimator):\n",
    "    return Table([[estimator(samples[s]) for s in samples]],['ests'])"
   ]
  },
  {
   "cell_type": "code",
   "execution_count": 33,
   "metadata": {
    "collapsed": false
   },
   "outputs": [],
   "source": [
    "estB = estimate(estimateB)"
   ]
  },
  {
   "cell_type": "code",
   "execution_count": 34,
   "metadata": {
    "collapsed": false
   },
   "outputs": [
    {
     "data": {
      "image/png": "[encoded data removed]",
      "text/plain": [
       "<matplotlib.figure.Figure at 0x109f8c748>"
      ]
     },
     "metadata": {},
     "output_type": "display_data"
    }
   ],
   "source": [
    "estB.hist(range=(1,np.max(estB['ests'])),bins=20)"
   ]
  },
  {
   "cell_type": "code",
   "execution_count": 35,
   "metadata": {
    "collapsed": false
   },
   "outputs": [],
   "source": [
    "comp = Table([estA['ests'],estB['ests']],['estA','estB'])"
   ]
  },
  {
   "cell_type": "code",
   "execution_count": 36,
   "metadata": {
    "collapsed": false
   },
   "outputs": [
    {
     "data": {
      "text/html": [
       "<table border=\"1\" class=\"dataframe\">\n",
       "    <thead>\n",
       "        <tr>\n",
       "            <th>estA</th> <th>estB</th>\n",
       "        </tr>\n",
       "    </thead>\n",
       "    <tbody>\n",
       "        <tr>\n",
       "            <td>1551</td> <td>1834.8</td>\n",
       "        </tr>\n",
       "    </tbody>\n",
       "        <tr>\n",
       "            <td>2017</td> <td>2488.2</td>\n",
       "        </tr>\n",
       "    </tbody>\n",
       "        <tr>\n",
       "            <td>1321</td> <td>1747.8</td>\n",
       "        </tr>\n",
       "    </tbody>\n",
       "        <tr>\n",
       "            <td>1698</td> <td>1543.6</td>\n",
       "        </tr>\n",
       "    </tbody>\n",
       "        <tr>\n",
       "            <td>2016</td> <td>1897.6</td>\n",
       "        </tr>\n",
       "    </tbody>\n",
       "        <tr>\n",
       "            <td>1914</td> <td>2074.4</td>\n",
       "        </tr>\n",
       "    </tbody>\n",
       "        <tr>\n",
       "            <td>1405</td> <td>1407.4</td>\n",
       "        </tr>\n",
       "    </tbody>\n",
       "        <tr>\n",
       "            <td>2031</td> <td>1612.4</td>\n",
       "        </tr>\n",
       "    </tbody>\n",
       "        <tr>\n",
       "            <td>2020</td> <td>2270  </td>\n",
       "        </tr>\n",
       "    </tbody>\n",
       "        <tr>\n",
       "            <td>2004</td> <td>2255  </td>\n",
       "        </tr>\n",
       "    </tbody>\n",
       "</table>\n",
       "<p>... (20 rows omitted)</p"
      ],
      "text/plain": [
       "estA | estB\n",
       "1551 | 1834.8\n",
       "2017 | 2488.2\n",
       "1321 | 1747.8\n",
       "1698 | 1543.6\n",
       "2016 | 1897.6\n",
       "1914 | 2074.4\n",
       "1405 | 1407.4\n",
       "2031 | 1612.4\n",
       "2020 | 2270\n",
       "2004 | 2255\n",
       "... (20 rows omitted)"
      ]
     },
     "execution_count": 36,
     "metadata": {},
     "output_type": "execute_result"
    }
   ],
   "source": [
    "comp"
   ]
  },
  {
   "cell_type": "code",
   "execution_count": 37,
   "metadata": {
    "collapsed": false
   },
   "outputs": [
    {
     "data": {
      "image/png": "[encoded data removed]",
      "text/plain": [
       "<matplotlib.figure.Figure at 0x10a092898>"
      ]
     },
     "metadata": {},
     "output_type": "display_data"
    }
   ],
   "source": [
    "comp.hist(overlay=True, bins=np.arange(1000,2500,50))"
   ]
  },
  {
   "cell_type": "code",
   "execution_count": 38,
   "metadata": {
    "collapsed": false
   },
   "outputs": [
    {
     "data": {
      "text/plain": [
       "2034"
      ]
     },
     "execution_count": 38,
     "metadata": {},
     "output_type": "execute_result"
    }
   ],
   "source": [
    "# How does these estimates compare with the true size of the population?\n",
    "population.num_rows"
   ]
  },
  {
   "cell_type": "code",
   "execution_count": 39,
   "metadata": {
    "collapsed": false
   },
   "outputs": [
    {
     "data": {
      "text/html": [
       "<table border=\"1\" class=\"dataframe\">\n",
       "    <thead>\n",
       "        <tr>\n",
       "            <th>bin</th> <th>estA count</th> <th>estB count</th>\n",
       "        </tr>\n",
       "    </thead>\n",
       "    <tbody>\n",
       "        <tr>\n",
       "            <td>1000</td> <td>0         </td> <td>0         </td>\n",
       "        </tr>\n",
       "    </tbody>\n",
       "        <tr>\n",
       "            <td>1050</td> <td>0         </td> <td>0         </td>\n",
       "        </tr>\n",
       "    </tbody>\n",
       "        <tr>\n",
       "            <td>1100</td> <td>0         </td> <td>0         </td>\n",
       "        </tr>\n",
       "    </tbody>\n",
       "        <tr>\n",
       "            <td>1150</td> <td>0         </td> <td>0         </td>\n",
       "        </tr>\n",
       "    </tbody>\n",
       "        <tr>\n",
       "            <td>1200</td> <td>0         </td> <td>0         </td>\n",
       "        </tr>\n",
       "    </tbody>\n",
       "        <tr>\n",
       "            <td>1250</td> <td>0         </td> <td>1         </td>\n",
       "        </tr>\n",
       "    </tbody>\n",
       "        <tr>\n",
       "            <td>1300</td> <td>1         </td> <td>0         </td>\n",
       "        </tr>\n",
       "    </tbody>\n",
       "        <tr>\n",
       "            <td>1350</td> <td>0         </td> <td>0         </td>\n",
       "        </tr>\n",
       "    </tbody>\n",
       "        <tr>\n",
       "            <td>1400</td> <td>1         </td> <td>1         </td>\n",
       "        </tr>\n",
       "    </tbody>\n",
       "        <tr>\n",
       "            <td>1450</td> <td>0         </td> <td>0         </td>\n",
       "        </tr>\n",
       "    </tbody>\n",
       "        <tr>\n",
       "            <td>1500</td> <td>0         </td> <td>1         </td>\n",
       "        </tr>\n",
       "    </tbody>\n",
       "        <tr>\n",
       "            <td>1550</td> <td>1         </td> <td>0         </td>\n",
       "        </tr>\n",
       "    </tbody>\n",
       "        <tr>\n",
       "            <td>1600</td> <td>1         </td> <td>2         </td>\n",
       "        </tr>\n",
       "    </tbody>\n",
       "        <tr>\n",
       "            <td>1650</td> <td>2         </td> <td>0         </td>\n",
       "        </tr>\n",
       "    </tbody>\n",
       "        <tr>\n",
       "            <td>1700</td> <td>1         </td> <td>2         </td>\n",
       "        </tr>\n",
       "    </tbody>\n",
       "        <tr>\n",
       "            <td>1750</td> <td>2         </td> <td>3         </td>\n",
       "        </tr>\n",
       "    </tbody>\n",
       "        <tr>\n",
       "            <td>1800</td> <td>0         </td> <td>2         </td>\n",
       "        </tr>\n",
       "    </tbody>\n",
       "        <tr>\n",
       "            <td>1850</td> <td>2         </td> <td>3         </td>\n",
       "        </tr>\n",
       "    </tbody>\n",
       "        <tr>\n",
       "            <td>1900</td> <td>5         </td> <td>1         </td>\n",
       "        </tr>\n",
       "    </tbody>\n",
       "        <tr>\n",
       "            <td>1950</td> <td>4         </td> <td>1         </td>\n",
       "        </tr>\n",
       "    </tbody>\n",
       "        <tr>\n",
       "            <td>2000</td> <td>10        </td> <td>0         </td>\n",
       "        </tr>\n",
       "    </tbody>\n",
       "        <tr>\n",
       "            <td>2050</td> <td>0         </td> <td>3         </td>\n",
       "        </tr>\n",
       "    </tbody>\n",
       "        <tr>\n",
       "            <td>2100</td> <td>0         </td> <td>1         </td>\n",
       "        </tr>\n",
       "    </tbody>\n",
       "        <tr>\n",
       "            <td>2150</td> <td>0         </td> <td>0         </td>\n",
       "        </tr>\n",
       "    </tbody>\n",
       "        <tr>\n",
       "            <td>2200</td> <td>0         </td> <td>0         </td>\n",
       "        </tr>\n",
       "    </tbody>\n",
       "        <tr>\n",
       "            <td>2250</td> <td>0         </td> <td>2         </td>\n",
       "        </tr>\n",
       "    </tbody>\n",
       "        <tr>\n",
       "            <td>2300</td> <td>0         </td> <td>2         </td>\n",
       "        </tr>\n",
       "    </tbody>\n",
       "        <tr>\n",
       "            <td>2350</td> <td>0         </td> <td>1         </td>\n",
       "        </tr>\n",
       "    </tbody>\n",
       "        <tr>\n",
       "            <td>2400</td> <td>0         </td> <td>1         </td>\n",
       "        </tr>\n",
       "    </tbody>\n",
       "        <tr>\n",
       "            <td>2450</td> <td>0         </td> <td>0         </td>\n",
       "        </tr>\n",
       "    </tbody>\n",
       "</table>"
      ],
      "text/plain": [
       "<IPython.core.display.HTML object>"
      ]
     },
     "metadata": {},
     "output_type": "display_data"
    }
   ],
   "source": [
    "# Produce a table containing the data associated with a histogram\n",
    "ebins = comp.bin(bins=np.arange(1000,2500,50))\n",
    "ebins.show()"
   ]
  },
  {
   "cell_type": "code",
   "execution_count": null,
   "metadata": {
    "collapsed": true
   },
   "outputs": [],
   "source": []
  }
 ],
 "metadata": {
  "kernelspec": {
   "display_name": "Python 3",
   "language": "python",
   "name": "python3"
  },
  "language_info": {
   "codemirror_mode": {
    "name": "ipython",
    "version": 3
   },
   "file_extension": ".py",
   "mimetype": "text/x-python",
   "name": "python",
   "nbconvert_exporter": "python",
   "pygments_lexer": "ipython3",
   "version": "3.4.3"
  }
 },
 "nbformat": 4,
 "nbformat_minor": 0
}
